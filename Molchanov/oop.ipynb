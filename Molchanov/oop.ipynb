{
 "cells": [
  {
   "cell_type": "code",
   "execution_count": 1,
   "id": "67c1d58d-b4cf-4da3-9bc5-f84dd9b27e18",
   "metadata": {},
   "outputs": [],
   "source": [
    "class Person:\n",
    "    def hello():\n",
    "        print(\"Hello!\")"
   ]
  },
  {
   "cell_type": "code",
   "execution_count": 2,
   "id": "d1727d4f-7559-43a1-a4a8-34ab64b3215a",
   "metadata": {},
   "outputs": [],
   "source": [
    "p = Person()"
   ]
  },
  {
   "cell_type": "code",
   "execution_count": 3,
   "id": "94e4c98e-1a69-4a0e-881e-6066561b5dd1",
   "metadata": {},
   "outputs": [
    {
     "name": "stdout",
     "output_type": "stream",
     "text": [
      "Hello!\n"
     ]
    }
   ],
   "source": [
    "Person.hello()"
   ]
  },
  {
   "cell_type": "code",
   "execution_count": 4,
   "id": "52e0445d-e194-43f3-9a4e-1778218b1cab",
   "metadata": {},
   "outputs": [
    {
     "ename": "TypeError",
     "evalue": "hello() takes 0 positional arguments but 1 was given",
     "output_type": "error",
     "traceback": [
      "\u001b[1;31m---------------------------------------------------------------------------\u001b[0m",
      "\u001b[1;31mTypeError\u001b[0m                                 Traceback (most recent call last)",
      "\u001b[1;32m<ipython-input-4-775a38b8469f>\u001b[0m in \u001b[0;36m<module>\u001b[1;34m\u001b[0m\n\u001b[1;32m----> 1\u001b[1;33m \u001b[0mp\u001b[0m\u001b[1;33m.\u001b[0m\u001b[0mhello\u001b[0m\u001b[1;33m(\u001b[0m\u001b[1;33m)\u001b[0m\u001b[1;33m\u001b[0m\u001b[1;33m\u001b[0m\u001b[0m\n\u001b[0m",
      "\u001b[1;31mTypeError\u001b[0m: hello() takes 0 positional arguments but 1 was given"
     ]
    }
   ],
   "source": [
    "p.hello()"
   ]
  },
  {
   "cell_type": "code",
   "execution_count": 5,
   "id": "be7d1ef9-922d-4917-9e17-3e2b22e7ac8c",
   "metadata": {},
   "outputs": [],
   "source": [
    "class Person1:\n",
    "    def hello(self):\n",
    "        print(\"Hello!\", self)"
   ]
  },
  {
   "cell_type": "code",
   "execution_count": 8,
   "id": "5b6311e1-b0ad-4a0c-9391-66aa9b636bc5",
   "metadata": {},
   "outputs": [],
   "source": [
    "p1 = Person1() "
   ]
  },
  {
   "cell_type": "code",
   "execution_count": 9,
   "id": "0cf007ba-c175-4f30-9121-b57ab7897a2b",
   "metadata": {},
   "outputs": [
    {
     "name": "stdout",
     "output_type": "stream",
     "text": [
      "Hello! <__main__.Person1 object at 0x000001DFE1031EB0>\n"
     ]
    }
   ],
   "source": [
    "p1.hello()"
   ]
  },
  {
   "cell_type": "code",
   "execution_count": 16,
   "id": "314c7fe7-2f2e-40ba-8665-e6ad70d1ac70",
   "metadata": {},
   "outputs": [
    {
     "ename": "TypeError",
     "evalue": "hello() missing 1 required positional argument: 'self'",
     "output_type": "error",
     "traceback": [
      "\u001b[1;31m---------------------------------------------------------------------------\u001b[0m",
      "\u001b[1;31mTypeError\u001b[0m                                 Traceback (most recent call last)",
      "\u001b[1;32m<ipython-input-16-b951dbdaee00>\u001b[0m in \u001b[0;36m<module>\u001b[1;34m\u001b[0m\n\u001b[1;32m----> 1\u001b[1;33m \u001b[0mPerson1\u001b[0m\u001b[1;33m.\u001b[0m\u001b[0mhello\u001b[0m\u001b[1;33m(\u001b[0m\u001b[1;33m)\u001b[0m\u001b[1;33m\u001b[0m\u001b[1;33m\u001b[0m\u001b[0m\n\u001b[0m",
      "\u001b[1;31mTypeError\u001b[0m: hello() missing 1 required positional argument: 'self'"
     ]
    }
   ],
   "source": [
    "Person1.hello()"
   ]
  },
  {
   "cell_type": "code",
   "execution_count": 14,
   "id": "1f6cd309-6d91-47a6-b0b3-2d2248c2daf7",
   "metadata": {},
   "outputs": [
    {
     "name": "stdout",
     "output_type": "stream",
     "text": [
      "Hello! 1\n"
     ]
    }
   ],
   "source": [
    "Person1.hello(1)"
   ]
  },
  {
   "cell_type": "code",
   "execution_count": 15,
   "id": "b369637c-d72f-4574-9fd8-05ac807ae56c",
   "metadata": {},
   "outputs": [],
   "source": [
    "class Person2:\n",
    "    def hello(self=0):\n",
    "        print(\"Hello!\", self)"
   ]
  },
  {
   "cell_type": "code",
   "execution_count": 17,
   "id": "85fd6da1-ceb1-48b4-99b9-7a73a489a0e2",
   "metadata": {},
   "outputs": [
    {
     "name": "stdout",
     "output_type": "stream",
     "text": [
      "Hello! 0\n"
     ]
    }
   ],
   "source": [
    "Person2.hello()"
   ]
  },
  {
   "cell_type": "code",
   "execution_count": 18,
   "id": "79e7402b-8f88-402a-81e0-4840d963901f",
   "metadata": {},
   "outputs": [],
   "source": [
    "p2 = Person2()"
   ]
  },
  {
   "cell_type": "code",
   "execution_count": 19,
   "id": "646498a6-6859-4f8b-85df-a71b08e28838",
   "metadata": {},
   "outputs": [
    {
     "name": "stdout",
     "output_type": "stream",
     "text": [
      "Hello! <__main__.Person2 object at 0x000001DFE110E6D0>\n"
     ]
    }
   ],
   "source": [
    "p2.hello()"
   ]
  },
  {
   "cell_type": "code",
   "execution_count": 65,
   "id": "a21d4cfc-80a4-4804-bc87-877354a241a1",
   "metadata": {},
   "outputs": [],
   "source": [
    "class Person:\n",
    "    def __init__(self, name):\n",
    "        self._name = name\n",
    "        \n",
    "    def get_name(self):\n",
    "        print(\"get_name running....\")\n",
    "        return  self._name\n",
    "    \n",
    "    def set_name(self, value):\n",
    "        self._name = value\n",
    "        return self._name\n",
    "    \n",
    "    name = property(fget=get_name, fset=set_name) "
   ]
  },
  {
   "cell_type": "code",
   "execution_count": 68,
   "id": "70c6a752-d8de-487a-8d54-7a4af60109fb",
   "metadata": {},
   "outputs": [],
   "source": [
    "p = Person(\"Michael\")"
   ]
  },
  {
   "cell_type": "code",
   "execution_count": 67,
   "id": "d3ffe8c4-6211-44b7-a446-87626a4d2a2f",
   "metadata": {},
   "outputs": [
    {
     "name": "stdout",
     "output_type": "stream",
     "text": [
      "get_name running....\n"
     ]
    },
    {
     "data": {
      "text/plain": [
       "'Michael'"
      ]
     },
     "execution_count": 67,
     "metadata": {},
     "output_type": "execute_result"
    }
   ],
   "source": [
    "p.get_name()"
   ]
  },
  {
   "cell_type": "code",
   "execution_count": 69,
   "id": "f1b7fa98-a2fd-44bd-90de-8c4011d8ebfa",
   "metadata": {},
   "outputs": [
    {
     "name": "stdout",
     "output_type": "stream",
     "text": [
      "get_name running....\n"
     ]
    },
    {
     "data": {
      "text/plain": [
       "'Michael'"
      ]
     },
     "execution_count": 69,
     "metadata": {},
     "output_type": "execute_result"
    }
   ],
   "source": [
    "p.name"
   ]
  },
  {
   "cell_type": "code",
   "execution_count": 70,
   "id": "67bf2561-59b4-4488-810f-34934db46636",
   "metadata": {},
   "outputs": [],
   "source": [
    "p.name = 'Pavel'"
   ]
  },
  {
   "cell_type": "code",
   "execution_count": 71,
   "id": "c9cfa58e-a188-4d74-9c8f-c0d906dab722",
   "metadata": {},
   "outputs": [
    {
     "name": "stdout",
     "output_type": "stream",
     "text": [
      "get_name running....\n"
     ]
    },
    {
     "data": {
      "text/plain": [
       "'Pavel'"
      ]
     },
     "execution_count": 71,
     "metadata": {},
     "output_type": "execute_result"
    }
   ],
   "source": [
    "p.name"
   ]
  },
  {
   "cell_type": "code",
   "execution_count": 80,
   "id": "4394a603-13b8-4ba3-8b46-30585cf01eb4",
   "metadata": {},
   "outputs": [],
   "source": [
    "class Person:\n",
    "    def __init__(self, name):\n",
    "        self._name = name\n",
    "      \n",
    "    def get_name(self):\n",
    "        print(\"get_name running....\")\n",
    "        return  self._name\n",
    "    \n",
    "    def set_name(self, value):\n",
    "        print(\"set_name running....\")\n",
    "        self._name = value\n",
    "        return self._name\n",
    "    \n",
    "    name = property()\n",
    "    name = name.getter(get_name)\n",
    "    name = name.setter(set_name)"
   ]
  },
  {
   "cell_type": "code",
   "execution_count": 81,
   "id": "255c57ad-fb40-4280-bb35-59ceb1b45f9f",
   "metadata": {},
   "outputs": [],
   "source": [
    "p1 = Person('Michael')"
   ]
  },
  {
   "cell_type": "code",
   "execution_count": 82,
   "id": "0244af14-0a64-4590-8100-167a71ef83ef",
   "metadata": {},
   "outputs": [
    {
     "name": "stdout",
     "output_type": "stream",
     "text": [
      "get_name running....\n"
     ]
    },
    {
     "data": {
      "text/plain": [
       "'Michael'"
      ]
     },
     "execution_count": 82,
     "metadata": {},
     "output_type": "execute_result"
    }
   ],
   "source": [
    "p1.name"
   ]
  },
  {
   "cell_type": "code",
   "execution_count": 83,
   "id": "b0940125-2dfb-417f-9544-61f1248fbfc8",
   "metadata": {},
   "outputs": [
    {
     "name": "stdout",
     "output_type": "stream",
     "text": [
      "set_name running....\n",
      "get_name running....\n"
     ]
    },
    {
     "data": {
      "text/plain": [
       "'Lev'"
      ]
     },
     "execution_count": 83,
     "metadata": {},
     "output_type": "execute_result"
    }
   ],
   "source": [
    "p1.name = 'Lev'\n",
    "p1.name"
   ]
  },
  {
   "cell_type": "code",
   "execution_count": 95,
   "id": "fdadd101-d4a6-4f90-a797-bd823b2c5f53",
   "metadata": {},
   "outputs": [],
   "source": [
    "class Person:\n",
    "    def __init__(self, name):\n",
    "        self._name = name\n",
    "      \n",
    "    @property\n",
    "    def name(self):\n",
    "        print(\"get_name running....\")\n",
    "        return  self._name\n",
    "    \n",
    "    @name.setter\n",
    "    def name(self, value):\n",
    "        print(\"set_name running....\")\n",
    "        self._name = value\n",
    "        return self._name\n",
    "    \n",
    "#     name = property(fget=get_name, fset=set_name) "
   ]
  },
  {
   "cell_type": "code",
   "execution_count": 96,
   "id": "2da8a707-4732-4b36-87f1-b1034a66a74d",
   "metadata": {},
   "outputs": [
    {
     "name": "stdout",
     "output_type": "stream",
     "text": [
      "get_name running....\n"
     ]
    },
    {
     "data": {
      "text/plain": [
       "'Michael'"
      ]
     },
     "execution_count": 96,
     "metadata": {},
     "output_type": "execute_result"
    }
   ],
   "source": [
    "p = Person('Michael')\n",
    "p.name"
   ]
  },
  {
   "cell_type": "code",
   "execution_count": 97,
   "id": "d1ab092f-d44a-45ff-932a-2b5458795727",
   "metadata": {},
   "outputs": [
    {
     "name": "stdout",
     "output_type": "stream",
     "text": [
      "set_name running....\n",
      "get_name running....\n"
     ]
    },
    {
     "data": {
      "text/plain": [
       "'Pavel'"
      ]
     },
     "execution_count": 97,
     "metadata": {},
     "output_type": "execute_result"
    }
   ],
   "source": [
    "p.name = 'Pavel'\n",
    "p.name"
   ]
  },
  {
   "cell_type": "markdown",
   "id": "1a2b4266-259a-4abb-8c90-0e4ed70c3b8b",
   "metadata": {},
   "source": [
    "### Non-Data descriptors\n",
    "(Не хранящие данные)"
   ]
  },
  {
   "cell_type": "code",
   "execution_count": 1,
   "id": "dbd5355c-77d9-45ba-a395-889b2c7e8235",
   "metadata": {},
   "outputs": [],
   "source": [
    "from time import time_ns"
   ]
  },
  {
   "cell_type": "code",
   "execution_count": 98,
   "id": "bce2547a-e65f-48bf-939e-b50e2f9aaffc",
   "metadata": {},
   "outputs": [],
   "source": [
    "class Epoch:\n",
    "    def __get__(self, instance, class_owner):\n",
    "        print(\"Epoch:\")\n",
    "        print(f\"Self: {self}\")\n",
    "        print(f\"Instance: {instance}\")\n",
    "        print(f\"Class_owner: {class_owner}\")\n",
    "\n",
    "        return int(time_ns())"
   ]
  },
  {
   "cell_type": "code",
   "execution_count": 99,
   "id": "08a50407-bd36-4b05-9670-282c2b5c6e16",
   "metadata": {},
   "outputs": [],
   "source": [
    "class MyTime:\n",
    "    epoch = Epoch()"
   ]
  },
  {
   "cell_type": "code",
   "execution_count": 100,
   "id": "7b364f97-a35d-4758-8d5a-43b384dc88e9",
   "metadata": {},
   "outputs": [],
   "source": [
    "t = MyTime()"
   ]
  },
  {
   "cell_type": "code",
   "execution_count": 101,
   "id": "13fd7e79-711e-4f78-82d0-07c741cc0486",
   "metadata": {},
   "outputs": [
    {
     "data": {
      "text/plain": [
       "{}"
      ]
     },
     "execution_count": 101,
     "metadata": {},
     "output_type": "execute_result"
    }
   ],
   "source": [
    "t.__dict__"
   ]
  },
  {
   "cell_type": "code",
   "execution_count": 102,
   "id": "53463427-98cf-4329-845a-f35ad9712e78",
   "metadata": {},
   "outputs": [
    {
     "name": "stdout",
     "output_type": "stream",
     "text": [
      "Epoch:\n",
      "Self: <__main__.Epoch object at 0x00000271BE961D90>\n",
      "Instance: <__main__.MyTime object at 0x00000271BE951A90>\n",
      "Class_owner: <class '__main__.MyTime'>\n"
     ]
    },
    {
     "data": {
      "text/plain": [
       "1620895255607809000"
      ]
     },
     "execution_count": 102,
     "metadata": {},
     "output_type": "execute_result"
    }
   ],
   "source": [
    "t.epoch"
   ]
  },
  {
   "cell_type": "code",
   "execution_count": 103,
   "id": "49ea3ec6-c1fb-4218-baf3-c43e6da62a15",
   "metadata": {},
   "outputs": [
    {
     "name": "stdout",
     "output_type": "stream",
     "text": [
      "Epoch:\n",
      "Self: <__main__.Epoch object at 0x00000271BE961D90>\n",
      "Instance: None\n",
      "Class_owner: <class '__main__.MyTime'>\n"
     ]
    },
    {
     "data": {
      "text/plain": [
       "1620895458819241200"
      ]
     },
     "execution_count": 103,
     "metadata": {},
     "output_type": "execute_result"
    }
   ],
   "source": [
    "MyTime.epoch"
   ]
  },
  {
   "cell_type": "code",
   "execution_count": 106,
   "id": "235b7ab4-f419-401b-862e-62bf0ec963d2",
   "metadata": {},
   "outputs": [
    {
     "data": {
      "text/plain": [
       "{}"
      ]
     },
     "execution_count": 106,
     "metadata": {},
     "output_type": "execute_result"
    }
   ],
   "source": [
    "t.__dict__"
   ]
  },
  {
   "cell_type": "code",
   "execution_count": 16,
   "id": "a948828e-bc7d-4329-924c-b0aaa8b72166",
   "metadata": {},
   "outputs": [],
   "source": [
    "from random import choice"
   ]
  },
  {
   "cell_type": "code",
   "execution_count": 38,
   "id": "4c9fac19-b49e-4bc8-8145-e6a6a48f26e7",
   "metadata": {},
   "outputs": [],
   "source": [
    "class Choice:\n",
    "    def __init__(self, *seq):\n",
    "        self._seq = seq\n",
    "        \n",
    "    def __get__(self, instance, class_owner):\n",
    "        return choice(self._seq)\n",
    "    "
   ]
  },
  {
   "cell_type": "code",
   "execution_count": 40,
   "id": "3d709314-fb9c-45a6-8938-9a689f68ce21",
   "metadata": {},
   "outputs": [],
   "source": [
    "class MyGame:\n",
    "    dice = Choice(*(range(1,7)))"
   ]
  },
  {
   "cell_type": "code",
   "execution_count": 41,
   "id": "93e1dc14-52cd-4922-9d35-4de88ac3ff71",
   "metadata": {},
   "outputs": [],
   "source": [
    "g = MyGame()"
   ]
  },
  {
   "cell_type": "code",
   "execution_count": 43,
   "id": "0b1ac6b5-d693-4802-b389-6a2ded120a97",
   "metadata": {},
   "outputs": [
    {
     "data": {
      "text/plain": [
       "2"
      ]
     },
     "execution_count": 43,
     "metadata": {},
     "output_type": "execute_result"
    }
   ],
   "source": [
    "g.dice"
   ]
  },
  {
   "cell_type": "code",
   "execution_count": 91,
   "id": "549e5b43-fb84-421e-a05e-cfab1227b558",
   "metadata": {},
   "outputs": [
    {
     "data": {
      "text/plain": [
       "[0.18, 0.13, 0.18, 0.15, 0.19, 0.17]"
      ]
     },
     "execution_count": 91,
     "metadata": {},
     "output_type": "execute_result"
    }
   ],
   "source": [
    "h = [g.dice for i in range(100)]\n",
    "dis = [h.count(i)/len(h) for i in range(1, 7)]\n",
    "dis"
   ]
  },
  {
   "cell_type": "code",
   "execution_count": null,
   "id": "e36553d3-81dc-43db-8ec9-f4976ff7ff6d",
   "metadata": {},
   "outputs": [],
   "source": [
    "def printarg(f, name):\n",
    "    def inner(name):\n",
    "        print()\n",
    "        print(f\"{name}:\")\n",
    "        print()\n",
    "        return f"
   ]
  },
  {
   "cell_type": "code",
   "execution_count": null,
   "id": "8ff78f76-16ab-4195-bf7d-d3c34a316774",
   "metadata": {},
   "outputs": [],
   "source": []
  },
  {
   "cell_type": "code",
   "execution_count": null,
   "id": "1ef9d25f-cf39-4898-a919-47f8e084d3f6",
   "metadata": {},
   "outputs": [],
   "source": []
  },
  {
   "cell_type": "markdown",
   "id": "384d2186-c9c4-470b-a6ae-036119e31dac",
   "metadata": {},
   "source": [
    "### Data descriptors\n",
    "(Умеющие хранить данные)"
   ]
  },
  {
   "cell_type": "code",
   "execution_count": 109,
   "id": "3517ef88-e25f-458a-bfa1-355e71ba902d",
   "metadata": {},
   "outputs": [
    {
     "data": {
      "text/plain": [
       "(False, False, False)"
      ]
     },
     "execution_count": 109,
     "metadata": {},
     "output_type": "execute_result"
    }
   ],
   "source": [
    "x = None\n",
    "y = []\n",
    "bool(x), bool(y), x == y"
   ]
  },
  {
   "cell_type": "code",
   "execution_count": 110,
   "id": "92ec9be0-89dc-4012-b13b-9e9fa526c9d2",
   "metadata": {},
   "outputs": [],
   "source": [
    "class Epoch:\n",
    "    def __get__(self, instance, class_owner):\n",
    "        print(\"Epoch:\")\n",
    "        if instance is None:\n",
    "            return self\n",
    "        \n",
    "        return int(time_ns())"
   ]
  },
  {
   "cell_type": "code",
   "execution_count": 111,
   "id": "c9159490-6d87-484e-bf56-d561179339ae",
   "metadata": {},
   "outputs": [],
   "source": [
    "class IntDescriptor:\n",
    "    \n",
    "    def __set__(self, instance, value):\n",
    "        self.__value = value\n",
    "        \n",
    "    def __get__(self, instance, class_owner):\n",
    "        if instance is None:\n",
    "            return self\n",
    "        \n",
    "        return self._value"
   ]
  },
  {
   "cell_type": "code",
   "execution_count": 115,
   "id": "412ea638-7ab9-4c25-badb-5570688498dd",
   "metadata": {},
   "outputs": [],
   "source": [
    "class Vector:\n",
    "    x = IntDescriptor()\n",
    "    y = IntDescriptor()\n"
   ]
  },
  {
   "cell_type": "code",
   "execution_count": 117,
   "id": "6855fe57-036a-4430-86ed-eabd9b3424be",
   "metadata": {},
   "outputs": [],
   "source": [
    "v1 = Vector()"
   ]
  },
  {
   "cell_type": "code",
   "execution_count": 118,
   "id": "15916f5d-7bb8-4ed2-8b2c-8719a0e1a296",
   "metadata": {},
   "outputs": [],
   "source": [
    "v1.x = 1\n",
    "v1.y = 2"
   ]
  },
  {
   "cell_type": "code",
   "execution_count": 121,
   "id": "189cc7cf-f423-4f70-ba38-f8cfe34ba785",
   "metadata": {},
   "outputs": [
    {
     "ename": "AttributeError",
     "evalue": "'IntDescriptor' object has no attribute '_value'",
     "output_type": "error",
     "traceback": [
      "\u001b[1;31m---------------------------------------------------------------------------\u001b[0m",
      "\u001b[1;31mAttributeError\u001b[0m                            Traceback (most recent call last)",
      "\u001b[1;32m<ipython-input-121-83d928d774b7>\u001b[0m in \u001b[0;36m<module>\u001b[1;34m\u001b[0m\n\u001b[1;32m----> 1\u001b[1;33m \u001b[0mv1\u001b[0m\u001b[1;33m.\u001b[0m\u001b[0mx\u001b[0m\u001b[1;33m\u001b[0m\u001b[1;33m\u001b[0m\u001b[0m\n\u001b[0m",
      "\u001b[1;32m<ipython-input-111-803aebc0bab6>\u001b[0m in \u001b[0;36m__get__\u001b[1;34m(self, instance, class_owner)\u001b[0m\n\u001b[0;32m      8\u001b[0m             \u001b[1;32mreturn\u001b[0m \u001b[0mself\u001b[0m\u001b[1;33m\u001b[0m\u001b[1;33m\u001b[0m\u001b[0m\n\u001b[0;32m      9\u001b[0m \u001b[1;33m\u001b[0m\u001b[0m\n\u001b[1;32m---> 10\u001b[1;33m         \u001b[1;32mreturn\u001b[0m \u001b[0mself\u001b[0m\u001b[1;33m.\u001b[0m\u001b[0m_value\u001b[0m\u001b[1;33m\u001b[0m\u001b[1;33m\u001b[0m\u001b[0m\n\u001b[0m",
      "\u001b[1;31mAttributeError\u001b[0m: 'IntDescriptor' object has no attribute '_value'"
     ]
    }
   ],
   "source": [
    "v1.x"
   ]
  },
  {
   "cell_type": "code",
   "execution_count": 120,
   "id": "fa5335be-345b-44b2-b4d6-e39008e407a3",
   "metadata": {},
   "outputs": [
    {
     "ename": "AttributeError",
     "evalue": "'IntDescriptor' object has no attribute '_value'",
     "output_type": "error",
     "traceback": [
      "\u001b[1;31m---------------------------------------------------------------------------\u001b[0m",
      "\u001b[1;31mAttributeError\u001b[0m                            Traceback (most recent call last)",
      "\u001b[1;32m<ipython-input-120-6e817940fbe6>\u001b[0m in \u001b[0;36m<module>\u001b[1;34m\u001b[0m\n\u001b[0;32m      1\u001b[0m \u001b[0mv2\u001b[0m \u001b[1;33m=\u001b[0m \u001b[0mVector\u001b[0m\u001b[1;33m(\u001b[0m\u001b[1;33m)\u001b[0m\u001b[1;33m\u001b[0m\u001b[1;33m\u001b[0m\u001b[0m\n\u001b[1;32m----> 2\u001b[1;33m \u001b[0mv2\u001b[0m\u001b[1;33m.\u001b[0m\u001b[0mx\u001b[0m\u001b[1;33m,\u001b[0m \u001b[0mv2\u001b[0m\u001b[1;33m.\u001b[0m\u001b[0my\u001b[0m\u001b[1;33m\u001b[0m\u001b[1;33m\u001b[0m\u001b[0m\n\u001b[0m",
      "\u001b[1;32m<ipython-input-111-803aebc0bab6>\u001b[0m in \u001b[0;36m__get__\u001b[1;34m(self, instance, class_owner)\u001b[0m\n\u001b[0;32m      8\u001b[0m             \u001b[1;32mreturn\u001b[0m \u001b[0mself\u001b[0m\u001b[1;33m\u001b[0m\u001b[1;33m\u001b[0m\u001b[0m\n\u001b[0;32m      9\u001b[0m \u001b[1;33m\u001b[0m\u001b[0m\n\u001b[1;32m---> 10\u001b[1;33m         \u001b[1;32mreturn\u001b[0m \u001b[0mself\u001b[0m\u001b[1;33m.\u001b[0m\u001b[0m_value\u001b[0m\u001b[1;33m\u001b[0m\u001b[1;33m\u001b[0m\u001b[0m\n\u001b[0m",
      "\u001b[1;31mAttributeError\u001b[0m: 'IntDescriptor' object has no attribute '_value'"
     ]
    }
   ],
   "source": [
    "v2 = Vector()\n",
    "v2.x, v2.y"
   ]
  }
 ],
 "metadata": {
  "kernelspec": {
   "display_name": "Python 3",
   "language": "python",
   "name": "python3"
  },
  "language_info": {
   "codemirror_mode": {
    "name": "ipython",
    "version": 3
   },
   "file_extension": ".py",
   "mimetype": "text/x-python",
   "name": "python",
   "nbconvert_exporter": "python",
   "pygments_lexer": "ipython3",
   "version": "3.8.8"
  }
 },
 "nbformat": 4,
 "nbformat_minor": 5
}
